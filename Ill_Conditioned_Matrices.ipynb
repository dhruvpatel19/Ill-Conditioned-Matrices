{
  "nbformat": 4,
  "nbformat_minor": 0,
  "metadata": {
    "colab": {
      "name": "Ill Conditioned Matrices",
      "provenance": [],
      "collapsed_sections": []
    },
    "kernelspec": {
      "name": "python3",
      "display_name": "Python 3"
    }
  },
  "cells": [
    {
      "cell_type": "code",
      "metadata": {
        "id": "l9lI5fQBuLkI",
        "colab_type": "code",
        "colab": {
          "base_uri": "https://localhost:8080/",
          "height": 70
        },
        "outputId": "63a2889c-e1a9-438c-b360-61d0eb7f8c02"
      },
      "source": [
        "import numpy as np\n",
        "\n",
        "matrix1 = np.array([[1, -6, 7, -9], [1, -5, 0, 0], [0, 1, -5, 0], [0, 0, 1, -5]])\n",
        "matrix2 = np.array([[17, -864, 716, -799], [1, -50, 0, 0], [0, 1, -50, 0], [0, 0, 1, -50]])\n",
        "matrix3 = np.array([[300, -590, 850, -561], [1, -1, 0, 0], [0, 1, -1, 0], [0, 0, 1, -1]])\n",
        "matrix4 = np.array([[1, 1/2, 1/3, 1/4], [1/2, 1/3, 1/4, 1/5], [1/3, 1/4, 1/5, 1/6], [1/4, 1/5, 1/6, 1/7]])\n",
        "matrix5 = np.array([[1, 1/2, 1/3, 1/4, 1/5], [1/2, 1/3, 1/4, 1/5, 1/6], [1/3, 1/4, 1/5, 1/6, 1/7], [1/4, 1/5, 1/6, 1/7, 1/8], [1/5, 1/6, 1/7, 1/8, 1/9]])\n",
        "matrix6 = np.array([[1, 1/2, 1/3, 1/4, 1/5, 1/6], [1/2, 1/3, 1/4, 1/5, 1/6, 1/7], [1/3, 1/4, 1/5, 1/6, 1/7, 1/8], [1/4, 1/5, 1/6, 1/7, 1/8, 1/9], [1/5, 1/6, 1/7, 1/8, 1/9, 1/10], [1/6, 1/7, 1/8, 1/9, 1/10, 1/11]])\n",
        "\n",
        "\n",
        "def matrix_evaluation(matrix):\n",
        "  print(\"Numpy condition number:\", np.linalg.cond(matrix))\n",
        "  matrix_inverse = np.linalg.inv(matrix)\n",
        "  print(\"Condition number evaluation based on k(A) = ||A||*||A^-1||:\", np.linalg.norm(matrix)*np.linalg.norm(matrix_inverse))\n",
        "  if np.all(np.equal(matrix, np.eye(matrix.shape[0]))) == \"True\": #Checking whether matrix * inverse = identity matrix\n",
        "    print(\"Conditioned\")\n",
        "  else:\n",
        "    print(\"Ill Conditioned\")\n",
        "\n",
        "\n",
        "matrix_evaluation(matrix1)"
      ],
      "execution_count": 21,
      "outputs": [
        {
          "output_type": "stream",
          "text": [
            "Numpy condition number: 4520.2995211917605\n",
            "Condition number evaluation based on k(A) = ||A||*||A^-1||: 5014.658512800249\n",
            "Ill Conditioned\n"
          ],
          "name": "stdout"
        }
      ]
    },
    {
      "cell_type": "code",
      "metadata": {
        "id": "mqNtPj5j0EPm",
        "colab_type": "code",
        "colab": {
          "base_uri": "https://localhost:8080/",
          "height": 70
        },
        "outputId": "47e520f6-b3c4-435c-9786-d15e6d775e8b"
      },
      "source": [
        "matrix_evaluation(matrix2)"
      ],
      "execution_count": 16,
      "outputs": [
        {
          "output_type": "stream",
          "text": [
            "Numpy condition number: 4692863863.225697\n",
            "Condition number evaluation based on k(A) = ||A||*||A^-1||: 4698958339.470977\n",
            "Ill Conditioned\n"
          ],
          "name": "stdout"
        }
      ]
    },
    {
      "cell_type": "code",
      "metadata": {
        "id": "gQ_dNE_W0FiZ",
        "colab_type": "code",
        "colab": {
          "base_uri": "https://localhost:8080/",
          "height": 70
        },
        "outputId": "44763c88-52f1-4369-c3c3-e6810a36ae12"
      },
      "source": [
        "matrix_evaluation(matrix3)"
      ],
      "execution_count": 17,
      "outputs": [
        {
          "output_type": "stream",
          "text": [
            "Numpy condition number: 1697705.8852271864\n",
            "Condition number evaluation based on k(A) = ||A||*||A^-1||: 1697708.3319787357\n",
            "Ill Conditioned\n"
          ],
          "name": "stdout"
        }
      ]
    },
    {
      "cell_type": "code",
      "metadata": {
        "id": "eGQme6A10G8Z",
        "colab_type": "code",
        "colab": {
          "base_uri": "https://localhost:8080/",
          "height": 70
        },
        "outputId": "74e26c3f-9798-461f-d788-2c2537d51c41"
      },
      "source": [
        "matrix_evaluation(matrix4)"
      ],
      "execution_count": 18,
      "outputs": [
        {
          "output_type": "stream",
          "text": [
            "Numpy condition number: 15513.73873892924\n",
            "Condition number evaluation based on k(A) = ||A||*||A^-1||: 15613.79355964483\n",
            "Ill Conditioned\n"
          ],
          "name": "stdout"
        }
      ]
    },
    {
      "cell_type": "code",
      "metadata": {
        "id": "HtFxZUVi0IWS",
        "colab_type": "code",
        "colab": {
          "base_uri": "https://localhost:8080/",
          "height": 70
        },
        "outputId": "cb8420a6-165d-48f6-8a04-b9577e9367ec"
      },
      "source": [
        "matrix_evaluation(matrix5)"
      ],
      "execution_count": 19,
      "outputs": [
        {
          "output_type": "stream",
          "text": [
            "Numpy condition number: 476607.25024259434\n",
            "Condition number evaluation based on k(A) = ||A||*||A^-1||: 480849.1169979506\n",
            "Ill Conditioned\n"
          ],
          "name": "stdout"
        }
      ]
    },
    {
      "cell_type": "code",
      "metadata": {
        "id": "Z3fEJa0l0Y2h",
        "colab_type": "code",
        "colab": {
          "base_uri": "https://localhost:8080/",
          "height": 70
        },
        "outputId": "cb6b3938-ebc2-4998-bce0-3fc6638ab600"
      },
      "source": [
        "matrix_evaluation(matrix6)"
      ],
      "execution_count": 22,
      "outputs": [
        {
          "output_type": "stream",
          "text": [
            "Numpy condition number: 14951058.642254665\n",
            "Condition number evaluation based on k(A) = ||A||*||A^-1||: 15118987.12835571\n",
            "Ill Conditioned\n"
          ],
          "name": "stdout"
        }
      ]
    }
  ]
}